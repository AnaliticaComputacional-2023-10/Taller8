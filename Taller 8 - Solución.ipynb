{
 "cells": [
  {
   "attachments": {},
   "cell_type": "markdown",
   "metadata": {},
   "source": [
    "# Taller 8\n",
    "\n",
    "### Bases de Datos en la Nube - RDS\n",
    "\n",
    "##### Analítica Computacional para la Toma de Decisiones\n",
    "\n",
    "---\n",
    "\n",
    "|     Nombres      |      Apellidos       |     Login     |  Codigo   |\n",
    "| :--------------: | :------------------: | :-----------: | :-------: |\n",
    "|     Santiago     | Gonzalez Montealegre | s.gonzalez35  | 202012274 |\n",
    "| Juliana Carolina |  Cardenas Barragan   | jc.cardenasb1 | 202011683 |\n",
    "\n",
    "---"
   ]
  },
  {
   "cell_type": "code",
   "execution_count": 43,
   "metadata": {},
   "outputs": [],
   "source": [
    "import pandas as pd\n",
    "import psycopg2"
   ]
  },
  {
   "cell_type": "code",
   "execution_count": 44,
   "metadata": {},
   "outputs": [],
   "source": [
    "# ------------------------------------------------\n",
    "# Mostrar el resultado como un pandas DataFrame\n",
    "# ------------------------------------------------\n",
    "\n",
    "# Ejecutar la query\n",
    "def execute(query: str, cursor: (psycopg2.extensions.cursor)):\n",
    "    cursor.execute(query)\n",
    "    result = cursor.fetchall()\n",
    "    return result\n",
    "\n",
    "# Hallar los atributos\n",
    "def getColumnNames(cursor):\n",
    "    columns = [i[0] for i in cursor.description]\n",
    "    return columns\n",
    "\n",
    "# Mostrar como DataFrame\n",
    "def pdsql(query: str, connection: (psycopg2.extensions.connection)):\n",
    "    try:\n",
    "        cursor = connection.cursor()\n",
    "        result = execute(query, cursor)\n",
    "        columns = getColumnNames(cursor)\n",
    "        df = pd.DataFrame(result, columns=columns)\n",
    "        return df\n",
    "    except Exception:\n",
    "        connection.commit()\n",
    "        return \"Query Error\""
   ]
  },
  {
   "cell_type": "code",
   "execution_count": 46,
   "metadata": {},
   "outputs": [],
   "source": [
    "connection = psycopg2.connect(\n",
    "    dbname=\"postgres\",\n",
    "    user=\"postgres\",\n",
    "    password=\"santiago2003\",\n",
    "    host=\"santiago.cbcppu1qhnbp.us-east-1.rds.amazonaws.com\",\n",
    "    port='5432'\n",
    ")"
   ]
  },
  {
   "cell_type": "code",
   "execution_count": 45,
   "metadata": {},
   "outputs": [
    {
     "data": {
      "text/html": [
       "<div>\n",
       "<style scoped>\n",
       "    .dataframe tbody tr th:only-of-type {\n",
       "        vertical-align: middle;\n",
       "    }\n",
       "\n",
       "    .dataframe tbody tr th {\n",
       "        vertical-align: top;\n",
       "    }\n",
       "\n",
       "    .dataframe thead th {\n",
       "        text-align: right;\n",
       "    }\n",
       "</style>\n",
       "<table border=\"1\" class=\"dataframe\">\n",
       "  <thead>\n",
       "    <tr style=\"text-align: right;\">\n",
       "      <th></th>\n",
       "      <th>schemaname</th>\n",
       "      <th>tablename</th>\n",
       "      <th>tableowner</th>\n",
       "      <th>tablespace</th>\n",
       "      <th>hasindexes</th>\n",
       "      <th>hasrules</th>\n",
       "      <th>hastriggers</th>\n",
       "      <th>rowsecurity</th>\n",
       "    </tr>\n",
       "  </thead>\n",
       "  <tbody>\n",
       "  </tbody>\n",
       "</table>\n",
       "</div>"
      ],
      "text/plain": [
       "Empty DataFrame\n",
       "Columns: [schemaname, tablename, tableowner, tablespace, hasindexes, hasrules, hastriggers, rowsecurity]\n",
       "Index: []"
      ]
     },
     "execution_count": 45,
     "metadata": {},
     "output_type": "execute_result"
    }
   ],
   "source": [
    "query = \"\"\"\n",
    "SELECT * \n",
    "FROM pg_catalog.pg_tables \n",
    "WHERE schemaname='public';\"\"\"\n",
    "pdsql(query, connection)"
   ]
  }
 ],
 "metadata": {
  "kernelspec": {
   "display_name": "Python 3",
   "language": "python",
   "name": "python3"
  },
  "language_info": {
   "codemirror_mode": {
    "name": "ipython",
    "version": 3
   },
   "file_extension": ".py",
   "mimetype": "text/x-python",
   "name": "python",
   "nbconvert_exporter": "python",
   "pygments_lexer": "ipython3",
   "version": "3.10.6"
  },
  "orig_nbformat": 4
 },
 "nbformat": 4,
 "nbformat_minor": 2
}
